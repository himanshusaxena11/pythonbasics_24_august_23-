{
 "cells": [
  {
   "cell_type": "markdown",
   "id": "a268ecd8",
   "metadata": {},
   "source": [
    "# for loop"
   ]
  },
  {
   "cell_type": "code",
   "execution_count": 1,
   "id": "948da4ac",
   "metadata": {},
   "outputs": [
    {
     "name": "stdout",
     "output_type": "stream",
     "text": [
      "0\n",
      "1\n",
      "2\n",
      "3\n",
      "4\n",
      "5\n",
      "6\n",
      "7\n",
      "8\n",
      "9\n"
     ]
    }
   ],
   "source": [
    "#print0-10\n",
    "for i in range(10):\n",
    "    print(i)"
   ]
  },
  {
   "cell_type": "code",
   "execution_count": 2,
   "id": "03ba37fb",
   "metadata": {},
   "outputs": [
    {
     "name": "stdout",
     "output_type": "stream",
     "text": [
      "2\n",
      "3\n",
      "4\n",
      "5\n",
      "6\n",
      "7\n",
      "8\n"
     ]
    }
   ],
   "source": [
    "#wap to print nos from 2-8\n",
    "for a in range(2,9):\n",
    "    print(a)"
   ]
  },
  {
   "cell_type": "code",
   "execution_count": 3,
   "id": "2387d558",
   "metadata": {},
   "outputs": [
    {
     "name": "stdout",
     "output_type": "stream",
     "text": [
      "1\n",
      "6\n",
      "11\n",
      "16\n",
      "21\n",
      "26\n",
      "31\n",
      "36\n",
      "41\n",
      "46\n"
     ]
    }
   ],
   "source": [
    "#wap to printno from 1-50 alternatively\n",
    "for b in range(1,51,5):\n",
    "    print(b)"
   ]
  },
  {
   "cell_type": "markdown",
   "id": "39c192df",
   "metadata": {},
   "source": [
    "# while loop"
   ]
  },
  {
   "cell_type": "code",
   "execution_count": 4,
   "id": "74f620e4",
   "metadata": {},
   "outputs": [
    {
     "name": "stdout",
     "output_type": "stream",
     "text": [
      "1\n",
      "2\n",
      "3\n",
      "4\n",
      "5\n",
      "6\n",
      "7\n",
      "8\n",
      "9\n",
      "10\n"
     ]
    }
   ],
   "source": [
    "#wap to print from 1 to 11\n",
    "x=1\n",
    "while x<11:\n",
    "    print(x)\n",
    "    x+=1"
   ]
  },
  {
   "cell_type": "code",
   "execution_count": 5,
   "id": "6f965bc6",
   "metadata": {},
   "outputs": [
    {
     "name": "stdout",
     "output_type": "stream",
     "text": [
      "-1\n",
      "0\n",
      "1\n",
      "2\n",
      "3\n",
      "4\n",
      "5\n",
      "6\n",
      "7\n",
      "8\n",
      "9\n",
      "10\n"
     ]
    }
   ],
   "source": [
    "#wap to print -1 to 10(while loop)\n",
    "x=-1\n",
    "while x<=10:\n",
    "    print(x)\n",
    "    x+=1"
   ]
  },
  {
   "cell_type": "code",
   "execution_count": 6,
   "id": "d98634f3",
   "metadata": {},
   "outputs": [
    {
     "name": "stdout",
     "output_type": "stream",
     "text": [
      "-1\n",
      "0\n",
      "1\n",
      "2\n",
      "3\n",
      "4\n",
      "5\n",
      "6\n",
      "7\n",
      "8\n",
      "9\n",
      "10\n"
     ]
    }
   ],
   "source": [
    "#wap to print -1 to 10\n",
    "for i in range(-1,11):\n",
    "    print(i)"
   ]
  },
  {
   "cell_type": "code",
   "execution_count": 7,
   "id": "55bb1591",
   "metadata": {},
   "outputs": [
    {
     "name": "stdout",
     "output_type": "stream",
     "text": [
      "-1\n",
      "-2\n",
      "-3\n",
      "-4\n",
      "-5\n",
      "-6\n",
      "-7\n",
      "-8\n",
      "-9\n",
      "-10\n"
     ]
    }
   ],
   "source": [
    "#wap to print -1 to -10\n",
    "x=-1\n",
    "while x>-11:\n",
    "    print(x)\n",
    "    x=x-1"
   ]
  },
  {
   "cell_type": "code",
   "execution_count": 8,
   "id": "be8ab72b",
   "metadata": {},
   "outputs": [
    {
     "name": "stdout",
     "output_type": "stream",
     "text": [
      "-1\n",
      "-2\n",
      "-3\n",
      "-4\n",
      "-5\n",
      "-6\n",
      "-7\n",
      "-8\n",
      "-9\n",
      "-10\n"
     ]
    }
   ],
   "source": [
    "#wap to print -1 to -10\n",
    "for i in range(-1,-11,-1):\n",
    "    print(i)"
   ]
  },
  {
   "cell_type": "code",
   "execution_count": 9,
   "id": "e34e0c58",
   "metadata": {},
   "outputs": [
    {
     "name": "stdout",
     "output_type": "stream",
     "text": [
      "1\n",
      "0\n",
      "-1\n",
      "-2\n",
      "-3\n",
      "-4\n",
      "-5\n",
      "-6\n",
      "-7\n",
      "-8\n",
      "-9\n",
      "-10\n"
     ]
    }
   ],
   "source": [
    "#wap to print 1 to -10\n",
    "for i in range(1,-11,-1):\n",
    "    print(i)"
   ]
  },
  {
   "cell_type": "code",
   "execution_count": 10,
   "id": "b36162d5",
   "metadata": {},
   "outputs": [
    {
     "name": "stdout",
     "output_type": "stream",
     "text": [
      "1\n",
      "0\n",
      "-1\n",
      "-2\n",
      "-3\n",
      "-4\n",
      "-5\n",
      "-6\n",
      "-7\n",
      "-8\n",
      "-9\n",
      "-10\n"
     ]
    }
   ],
   "source": [
    "#wap to print 1 to -10\n",
    "x=1 \n",
    "while x>-11:\n",
    "    print(x)\n",
    "    x=x-1"
   ]
  },
  {
   "cell_type": "code",
   "execution_count": 11,
   "id": "c4ad5c43",
   "metadata": {},
   "outputs": [
    {
     "name": "stdout",
     "output_type": "stream",
     "text": [
      "2\n",
      "4\n",
      "6\n",
      "8\n",
      "10\n",
      "12\n",
      "14\n",
      "16\n",
      "18\n",
      "20\n",
      "22\n",
      "24\n",
      "26\n",
      "28\n",
      "30\n",
      "32\n",
      "34\n",
      "36\n",
      "count>>>> 18\n"
     ]
    }
   ],
   "source": [
    "#wap to print even no from 1-37. Also try to count the nos\n",
    "count=0\n",
    "for i in range (1,37):\n",
    "    if i%2==0:\n",
    "        print(i)\n",
    "        count=count+1\n",
    "print(\"count>>>>\",count)"
   ]
  },
  {
   "cell_type": "code",
   "execution_count": 17,
   "id": "1c88869c",
   "metadata": {},
   "outputs": [
    {
     "name": "stdout",
     "output_type": "stream",
     "text": [
      "1\n",
      "count>>>> 1\n",
      "3\n",
      "count>>>> 2\n",
      "5\n",
      "count>>>> 3\n",
      "7\n",
      "count>>>> 4\n",
      "9\n",
      "count>>>> 5\n",
      "11\n",
      "count>>>> 6\n",
      "13\n",
      "count>>>> 7\n",
      "15\n",
      "count>>>> 8\n",
      "17\n",
      "count>>>> 9\n",
      "19\n",
      "count>>>> 10\n",
      "21\n",
      "count>>>> 11\n",
      "23\n",
      "count>>>> 12\n",
      "25\n",
      "count>>>> 13\n",
      "27\n",
      "count>>>> 14\n",
      "29\n",
      "count>>>> 15\n",
      "31\n",
      "count>>>> 16\n"
     ]
    }
   ],
   "source": [
    "#wap to print odd no from 1-31. Also try to count the nos\n",
    "count=0\n",
    "x=0\n",
    "while x<32:\n",
    "    x=x+1\n",
    "    if x%2!=0:\n",
    "        print(x)\n",
    "        count=count+1\n",
    "        print('count>>>>',count)"
   ]
  },
  {
   "cell_type": "code",
   "execution_count": 29,
   "id": "e05eb5b4",
   "metadata": {},
   "outputs": [
    {
     "name": "stdout",
     "output_type": "stream",
     "text": [
      "n\n",
      "in\n",
      "tin\n",
      "itin\n",
      "nitin\n",
      "reversed\n"
     ]
    }
   ],
   "source": [
    "#wap to reverse a string\n",
    "x='nitin'\n",
    "y=''\n",
    "for i in x:\n",
    "    y=i+y\n",
    "    print(y)\n",
    "if x==y:\n",
    "    print('reversed')\n",
    "else:\n",
    "     print('NR')"
   ]
  },
  {
   "cell_type": "code",
   "execution_count": 41,
   "id": "dbf92dca",
   "metadata": {},
   "outputs": [
    {
     "name": "stdout",
     "output_type": "stream",
     "text": [
      "n\n",
      "i\n",
      "t\n",
      "i\n",
      "n\n",
      "nitin\n",
      "palindrome\n"
     ]
    }
   ],
   "source": [
    "#wap to check a string is palindrome or not\n",
    "x='nitin'\n",
    "y=''\n",
    "for i in x:\n",
    "    print(i)\n",
    "    y=i+y\n",
    "print(y)\n",
    "if x!=y:\n",
    "    print('not pal')\n",
    "else:\n",
    "    print('palindrome')\n"
   ]
  },
  {
   "cell_type": "code",
   "execution_count": null,
   "id": "11c7a4f5",
   "metadata": {},
   "outputs": [],
   "source": []
  }
 ],
 "metadata": {
  "kernelspec": {
   "display_name": "Python 3 (ipykernel)",
   "language": "python",
   "name": "python3"
  },
  "language_info": {
   "codemirror_mode": {
    "name": "ipython",
    "version": 3
   },
   "file_extension": ".py",
   "mimetype": "text/x-python",
   "name": "python",
   "nbconvert_exporter": "python",
   "pygments_lexer": "ipython3",
   "version": "3.9.12"
  }
 },
 "nbformat": 4,
 "nbformat_minor": 5
}
